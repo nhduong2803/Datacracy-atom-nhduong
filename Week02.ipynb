{
  "nbformat": 4,
  "nbformat_minor": 0,
  "metadata": {
    "colab": {
      "name": "Week02.ipynb",
      "provenance": [],
      "toc_visible": true,
      "mount_file_id": "1K5mIVI78cWE081-YCwCFmP9rcC0qKh86",
      "authorship_tag": "ABX9TyPIK3ePFHJVeonGhW574MmV",
      "include_colab_link": true
    },
    "kernelspec": {
      "name": "python3",
      "display_name": "Python 3"
    },
    "language_info": {
      "name": "python"
    }
  },
  "cells": [
    {
      "cell_type": "markdown",
      "metadata": {
        "id": "view-in-github",
        "colab_type": "text"
      },
      "source": [
        "<a href=\"https://colab.research.google.com/github/nhduonng2803/Datacracy-atom-nhduong/blob/main/Week02.ipynb\" target=\"_parent\"><img src=\"https://colab.research.google.com/assets/colab-badge.svg\" alt=\"Open In Colab\"/></a>"
      ]
    },
    {
      "cell_type": "code",
      "metadata": {
        "colab": {
          "base_uri": "https://localhost:8080/"
        },
        "id": "_xXilzXWJuZx",
        "outputId": "38d1f688-6436-475a-aab6-8b4d3f2d86f0"
      },
      "source": [
        "%cd /content/drive/MyDrive/W2\n",
        "!python env_variables.py"
      ],
      "execution_count": null,
      "outputs": [
        {
          "output_type": "stream",
          "text": [
            "/content/drive/MyDrive/W2\n",
            "env_variable.json  env_variables.py  Week02.ipynb\n"
          ],
          "name": "stdout"
        }
      ]
    },
    {
      "cell_type": "markdown",
      "metadata": {
        "id": "YwytaCuWtDJN"
      },
      "source": [
        "#Todo 01"
      ]
    },
    {
      "cell_type": "code",
      "metadata": {
        "colab": {
          "base_uri": "https://localhost:8080/"
        },
        "id": "WZKH7mqTPY4N",
        "outputId": "d0996e3d-2405-4469-d6f9-a9e1192b8f86"
      },
      "source": [
        "import json\n",
        "with open('env_variable.json', 'r') as j:\n",
        "    json_data = json.load(j)\n",
        "    print(json_data)\n",
        "print(json_data['SENDER_EMAIL'])"
      ],
      "execution_count": null,
      "outputs": [
        {
          "output_type": "stream",
          "text": [
            "{'SENDER_EMAIL': 'nhduong2803@gmail.com', 'PWD_EMAIL': 'uftysvbkephsnjgu', 'WEATHER_API_KEY': '15fa2ad258f2769152b37b92155e89cf'}\n",
            "nhduong2803@gmail.com\n"
          ],
          "name": "stdout"
        }
      ]
    },
    {
      "cell_type": "markdown",
      "metadata": {
        "id": "SiDa3RsDHa-K"
      },
      "source": [
        "#Todo 02"
      ]
    },
    {
      "cell_type": "code",
      "metadata": {
        "colab": {
          "base_uri": "https://localhost:8080/"
        },
        "id": "ZAUHQV3nqS9q",
        "outputId": "5a626d6b-7bec-435c-92c1-1fccf66c1bff"
      },
      "source": [
        "import os\n",
        "os.environ['SENDER_EMAIL'] = json_data['SENDER_EMAIL'] ## INPUT: Your Email\n",
        "os.environ['PWD_EMAIL'] = json_data['PWD_EMAIL'] ## INPUT: Your App Password\n",
        "os.environ['WEATHER_API_KEY'] = json_data['WEATHER_API_KEY'] ## INPUT: OpenWeather API Key\n",
        "print('DONE! Get Env. Variable')\n",
        "print(os.environ['SENDER_EMAIL'])"
      ],
      "execution_count": null,
      "outputs": [
        {
          "output_type": "stream",
          "text": [
            "DONE! Get Env. Variable\n",
            "nhduong2803@gmail.com\n"
          ],
          "name": "stdout"
        }
      ]
    },
    {
      "cell_type": "code",
      "metadata": {
        "colab": {
          "base_uri": "https://localhost:8080/"
        },
        "id": "3U44bih8rnV2",
        "outputId": "82b0a736-04bb-4eff-a49c-0d021aa2489e"
      },
      "source": [
        "!pip install beautifulsoup4"
      ],
      "execution_count": null,
      "outputs": [
        {
          "output_type": "stream",
          "text": [
            "Requirement already satisfied: beautifulsoup4 in /usr/local/lib/python3.7/dist-packages (4.6.3)\n"
          ],
          "name": "stdout"
        }
      ]
    },
    {
      "cell_type": "code",
      "metadata": {
        "id": "B7SuYW6Yr6lj",
        "colab": {
          "base_uri": "https://localhost:8080/"
        },
        "outputId": "edfce564-1b68-4f1c-9463-86caf607394a"
      },
      "source": [
        "import email, smtplib, ssl # to automate email\n",
        "import email as mail\n",
        "from email import encoders\n",
        "from email.mime.base import MIMEBase\n",
        "from email.mime.multipart import MIMEMultipart\n",
        "from email.mime.text import MIMEText\n",
        "from email.mime.image import MIMEImage\n",
        "\n",
        "import requests, json # to pull API, and work with json\n",
        "import datetime as dt # to work with date, time\n",
        "from bs4 import BeautifulSoup # to work with web scrapping (HTML)\n",
        "import pandas as pd # to work with tables (DataFrames) data\n",
        "from IPython.core.display import HTML # to display HTML in the notebook\n",
        "\n",
        "subject = \"Welcome to Datacracy\" #INPUT1: Subject of the Email\n",
        "receiver_email = ['nhuhai03@gmail.com','nhduong2803@gmail.com','hato@cinnamon.is'] #INPUT2: email address to receive the email\n",
        "sender_email = os.environ['SENDER_EMAIL']\n",
        "password = os.environ['PWD_EMAIL'] \n",
        "\n",
        "for i in receiver_email:\n",
        "  # (1) Create the email head (sender, receiver, and subject)\n",
        "  email = MIMEMultipart()\n",
        "  email[\"From\"] = sender_email\n",
        "  email[\"To\"] = i \n",
        "  email[\"Subject\"] = subject\n",
        "\n",
        "  # (2) Create Body part\n",
        "  # We use html, you can convert word to html: https://wordtohtml.net/\n",
        "  html1 = \"\"\"\n",
        "    <html>\n",
        "    <head>\n",
        "    <title></title>\n",
        "    </head>\n",
        "\n",
        "    <body spellcheck=\"false\">\n",
        "    <p>Hi!</p>\n",
        "    <p>Hello Datacracy Team,</p>\n",
        "    <p>This is the link of <a href=\"https://docs.google.com/spreadsheets/d/1iFP3Prrns84yDzYS0tnoomrNB-Z2H1Jh/edit?usp=drive_web&ouid=100537790903044219495&rtpof=true\">my assignment 1</a>.</p>\n",
        "    <p>Kind Regard,</p>\n",
        "    <p>Nhu Hai.<br><br></p>\n",
        "    </body>\n",
        "    </html>\n",
        "      \"\"\"\n",
        "  html2 = \"\"\"\n",
        "  <html>\n",
        "  Email sent at <b>{}</b><br>\n",
        "  </html>\n",
        "  \"\"\".format(dt.datetime.now().isoformat())\n",
        "\n",
        "  image = \"/content/drive/MyDrive/W2/datacracy.png\"\n",
        "\n",
        "  # Combine parts\n",
        "  part1 = MIMEText(html1, 'html')\n",
        "  part2 = MIMEText(html2, 'html')\n",
        "  part3 = MIMEImage(open(image, 'rb').read(), 'png')\n",
        "\n",
        "  email.attach(part1)\n",
        "  email.attach(part2)\n",
        "  email.attach(part3)\n",
        "\n",
        "  # (3) Create SMTP session for sending the mail\n",
        "  session = smtplib.SMTP('smtp.gmail.com', 587) #use gmail with port\n",
        "  session.starttls() #enable security\n",
        "  session.login(sender_email, password) #login with mail_id and password\n",
        "  text = email.as_string()\n",
        "  session.sendmail(sender_email, i, text)\n",
        "  session.quit()\n",
        "print('DONE! Mail Sent'.format(sender_email, i))"
      ],
      "execution_count": 28,
      "outputs": [
        {
          "output_type": "stream",
          "text": [
            "DONE! Mail Sent\n"
          ],
          "name": "stdout"
        }
      ]
    },
    {
      "cell_type": "markdown",
      "metadata": {
        "id": "dGqVH-czISWy"
      },
      "source": [
        "#Todo 03"
      ]
    },
    {
      "cell_type": "code",
      "metadata": {
        "colab": {
          "base_uri": "https://localhost:8080/"
        },
        "id": "r0gXj0UnIQq6",
        "outputId": "8e9ffbd1-3c93-43d5-dd9d-e5fac1062524"
      },
      "source": [
        "# base URL\n",
        "BASE_URL = \"https://api.openweathermap.org/data/2.5/weather?\"\n",
        "# City Name \n",
        "CITY = \"London\"\n",
        "# API key \n",
        "API_KEY = os.environ['WEATHER_API_KEY']\n",
        "# upadting the URL\n",
        "URL = BASE_URL + \"q=\" + CITY + \"&appid=\" + API_KEY\n",
        "# print(URL)\n",
        "# HTTP request\n",
        "response = requests.get(URL)\n",
        "# checking the status code of the request\n",
        "f = open('weather.txt','w')\n",
        "if response.status_code == 200:\n",
        "  # getting data in the json format\n",
        "  data = response.json()\n",
        "  # getting weather information\n",
        "  weather = data['weather'][0]['main']\n",
        "  # getting Longitude information\n",
        "  lon = data['coord']['lon']\n",
        "  # getting Latitute information\n",
        "  lat = data['coord']['lat']\n",
        "  f = open('weather.txt','w') ## write to text file\n",
        "  print(f\"{CITY:-^30}\", file=f)\n",
        "  print(f\"Weather: {weather}\", file=f)\n",
        "  print(f\"Longitute: {lon}\", file=f)\n",
        "  print(f\"Latitute: {lat}\", file=f)\n",
        "  f.close()\n",
        "  print(\"DONE! Output in weather.txt file\")\n",
        "else:\n",
        "  # showing the error message\n",
        "  print(\"Error in the HTTP request\")\n",
        "  print(response)"
      ],
      "execution_count": 97,
      "outputs": [
        {
          "output_type": "stream",
          "text": [
            "DONE! Output in weather.txt file\n"
          ],
          "name": "stdout"
        }
      ]
    },
    {
      "cell_type": "markdown",
      "metadata": {
        "id": "FaBp1I6SThNj"
      },
      "source": [
        "#Todo 4"
      ]
    },
    {
      "cell_type": "code",
      "metadata": {
        "colab": {
          "base_uri": "https://localhost:8080/"
        },
        "id": "OltxARI8Tg4f",
        "outputId": "a676d6a7-1336-4030-dea2-7656515c0e8c"
      },
      "source": [
        "import requests\n",
        "import email, smtplib, ssl # to automate email\n",
        "import email as mail\n",
        "from email import encoders\n",
        "from email.mime.base import MIMEBase\n",
        "from email.mime.multipart import MIMEMultipart\n",
        "from email.mime.text import MIMEText\n",
        "from email.mime.image import MIMEImage\n",
        "\n",
        "import requests, json # to pull API, and work with json\n",
        "import datetime as dt # to work with date, time\n",
        "from bs4 import BeautifulSoup # to work with web scrapping (HTML)\n",
        "import pandas as pd # to work with tables (DataFrames) data\n",
        "from IPython.core.display import HTML # to display HTML in the notebook\n",
        "\n",
        "subject = \"Notify about Corona Virus Situation\" #INPUT1: Subject of the Email\n",
        "receiver_email = ['nhuhai03@gmail.com','nhduong2803@gmail.com','hato@cinnamon.is'] #INPUT2: email address to receive the email\n",
        "sender_email = os.environ['SENDER_EMAIL']\n",
        "password = os.environ['PWD_EMAIL'] \n",
        "\n",
        "# corona virus from Wiki\n",
        "response = requests.get(\n",
        "url=\"https://en.wikipedia.org/wiki/COVID-19\",)\n",
        "soup = BeautifulSoup(response.content, 'html.parser')\n",
        "\n",
        "for i in receiver_email:\n",
        "  # (1) Create the email head (sender, receiver, and subject)\n",
        "  email = MIMEMultipart()\n",
        "  email[\"From\"] = sender_email\n",
        "  email[\"To\"] = i \n",
        "  email[\"Subject\"] = subject\n",
        "\n",
        "  # (2) Create Body part\n",
        "  # We use html, you can convert word to html: https://wordtohtml.net/\n",
        "  html1 = \"\"\"\n",
        "    <html>\n",
        "    <head>\n",
        "    <title></title>\n",
        "    </head>\n",
        "\n",
        "    <body spellcheck=\"false\">\n",
        "    <p>Hi!</p>\n",
        "    <p>This is the information about Corona Virus<br><br></p>\n",
        "    </body>\n",
        "    </html>\n",
        "      \"\"\"\n",
        "  html2 = \"\"\"\n",
        "  <html>\n",
        "  Email sent at <b>{}</b><br>\n",
        "  </html>\n",
        "  \"\"\".format(dt.datetime.now().isoformat())\n",
        "\n",
        "  html3 = soup.find(id=\"bodyContent\")\n",
        "\n",
        "  # Combine parts\n",
        "  part1 = MIMEText(html1, 'html')\n",
        "  part2 = MIMEText(html2, 'html')\n",
        "  part3 = MIMEText(html3, 'html')\n",
        "\n",
        "  email.attach(part1)\n",
        "  email.attach(part2)\n",
        "  email.attach(part3)\n",
        "\n",
        "  # (3) Create SMTP session for sending the mail\n",
        "  session = smtplib.SMTP('smtp.gmail.com', 587) #use gmail with port\n",
        "  session.starttls() #enable security\n",
        "  session.login(sender_email, password) #login with mail_id and password\n",
        "  text = email.as_string()\n",
        "  session.sendmail(sender_email, i, text)\n",
        "  session.quit()\n",
        "print('DONE! Mail Sent'.format(sender_email, i))"
      ],
      "execution_count": 111,
      "outputs": [
        {
          "output_type": "stream",
          "text": [
            "DONE! Mail Sent\n"
          ],
          "name": "stdout"
        }
      ]
    },
    {
      "cell_type": "markdown",
      "metadata": {
        "id": "b7HycvFyXRgg"
      },
      "source": [
        "#Todo 5"
      ]
    },
    {
      "cell_type": "code",
      "metadata": {
        "colab": {
          "base_uri": "https://localhost:8080/"
        },
        "id": "KnzCoZAWXTPw",
        "outputId": "8b01e351-729a-4a8b-be19-c287ca6f36ec"
      },
      "source": [
        "import pandas as pd\n",
        "\n",
        "import requests\n",
        "import email, smtplib, ssl # to automate email\n",
        "import email as mail\n",
        "from email import encoders\n",
        "from email.mime.base import MIMEBase\n",
        "from email.mime.multipart import MIMEMultipart\n",
        "from email.mime.text import MIMEText\n",
        "from email.mime.image import MIMEImage\n",
        "\n",
        "import requests, json # to pull API, and work with json\n",
        "import datetime as dt # to work with date, time\n",
        "from bs4 import BeautifulSoup # to work with web scrapping (HTML)\n",
        "import pandas as pd # to work with tables (DataFrames) data\n",
        "from IPython.core.display import HTML # to display HTML in the notebook\n",
        "\n",
        "subject1 = \"Notify about Corona Virus Situation\" \n",
        "subject2 = \"Weather information\"\n",
        "sender_email = os.environ['SENDER_EMAIL']\n",
        "password = os.environ['PWD_EMAIL'] \n",
        "\n",
        "# Add information into csv file\n",
        "csv = \"\"\"email,contents,city\n",
        "nhuhai03@gmail.com,News,Hanoi\n",
        "nhduong2803@gmail.com,Weather,London\n",
        "\"\"\"\n",
        "f = open('email_list.csv','w') ## write to text file\n",
        "f.write(csv)\n",
        "f.close()\n",
        "title = [\"email\",\"contents\",\"city\"]\n",
        "email_list = pd.read_csv('email_list.csv',usecols=title)\n",
        "\n",
        "\n",
        "for i in list(range(2)):\n",
        "  print('Email #{}'.format(i))\n",
        "  if email_list['contents'][i] == 'News':\n",
        "    print('COVID To: {}'.format(email_list['email'][i]))\n",
        "    # TODO: Send a COVID News\n",
        "    # (1) Create the email head (sender, receiver, and subject)\n",
        "    email = MIMEMultipart()\n",
        "    email[\"From\"] = sender_email\n",
        "    email[\"To\"] = email_list['email'][i]\n",
        "    email[\"Subject\"] = subject1\n",
        "\n",
        "    # (2) Create Body part\n",
        "    # We use html, you can convert word to html: https://wordtohtml.net/\n",
        "    html1 = \"\"\"\n",
        "      <html>\n",
        "      <head>\n",
        "      <title></title>\n",
        "      </head>\n",
        "      <body spellcheck=\"false\">\n",
        "      <p>Hi!</p>\n",
        "      <p>This is the information about Corona Virus<br><br></p>\n",
        "      </body>\n",
        "      </html>\n",
        "        \"\"\"\n",
        "    html2 = \"\"\"\n",
        "      <html>\n",
        "      Email sent at <b>{}</b><br>\n",
        "      </html>\n",
        "      \"\"\".format(dt.datetime.now().isoformat())\n",
        "\n",
        "    html3 = soup.find(id=\"bodyContent\")\n",
        "\n",
        "    # Combine parts\n",
        "    part1 = MIMEText(html1, 'html')\n",
        "    part2 = MIMEText(html2, 'html')\n",
        "    part3 = MIMEText(html3, 'html')\n",
        "\n",
        "    email.attach(part1)\n",
        "    email.attach(part2)\n",
        "    email.attach(part3)\n",
        "\n",
        "    # (3) Create SMTP session for sending the mail\n",
        "    session = smtplib.SMTP('smtp.gmail.com', 587) #use gmail with port\n",
        "    session.starttls() #enable security\n",
        "    session.login(sender_email, password) #login with mail_id and password\n",
        "    text = email.as_string()\n",
        "    session.sendmail(sender_email, email_list['email'][i], text)\n",
        "    session.quit()\n",
        "  elif email_list['contents'][i] == 'Weather':\n",
        "    print('Weather To: {}'.format(email_list['email'][i]))\n",
        "    # TODO: Send a Weather updates by the city\n",
        "    # (1) Create the email head (sender, receiver, and subject)\n",
        "    email = MIMEMultipart()\n",
        "    email[\"From\"] = sender_email\n",
        "    email[\"To\"] = email_list['email'][i]\n",
        "    email[\"Subject\"] = subject2\n",
        "\n",
        "    # (2) Create Body part\n",
        "    # We use html, you can convert word to html: https://wordtohtml.net/\n",
        "    html1 = \"\"\"\n",
        "      <html>\n",
        "      <head>\n",
        "      <title></title>\n",
        "      </head>\n",
        "      <body spellcheck=\"false\">\n",
        "      <p>Hi!</p>\n",
        "      <p>The weather in London is Cloud<br><br></p>\n",
        "      </body>\n",
        "      </html>\n",
        "        \"\"\"\n",
        "    html2 = \"\"\"\n",
        "      <html>\n",
        "      Email sent at <b>{}</b><br>\n",
        "      </html>\n",
        "      \"\"\".format(dt.datetime.now().isoformat())\n",
        "\n",
        "    # Combine parts\n",
        "    part1 = MIMEText(html1, 'html')\n",
        "    part2 = MIMEText(html2, 'html')\n",
        "\n",
        "    email.attach(part1)\n",
        "    email.attach(part2)\n",
        "\n",
        "    # (3) Create SMTP session for sending the mail\n",
        "    session = smtplib.SMTP('smtp.gmail.com', 587) #use gmail with port\n",
        "    session.starttls() #enable security\n",
        "    session.login(sender_email, password) #login with mail_id and password\n",
        "    text = email.as_string()\n",
        "    session.sendmail(sender_email, email_list['email'][i], text)\n",
        "    session.quit()\n",
        "\n",
        "  else:\n",
        "    print('Invalid Contents')\n",
        "print('DONE!')\n"
      ],
      "execution_count": 133,
      "outputs": [
        {
          "output_type": "stream",
          "text": [
            "Email #0\n",
            "COVID To: nhuhai03@gmail.com\n",
            "Email #1\n",
            "Weather To: nhduong2803@gmail.com\n",
            "DONE!\n"
          ],
          "name": "stdout"
        }
      ]
    }
  ]
}