{
  "nbformat": 4,
  "nbformat_minor": 0,
  "metadata": {
    "colab": {
      "name": "Week02.ipynb",
      "provenance": [],
      "collapsed_sections": [],
      "toc_visible": true
    },
    "kernelspec": {
      "name": "python3",
      "display_name": "Python 3"
    },
    "language_info": {
      "name": "python"
    }
  },
  "cells": [
    {
      "cell_type": "code",
      "metadata": {
        "colab": {
          "base_uri": "https://localhost:8080/"
        },
        "id": "_xXilzXWJuZx",
        "outputId": "484bdcfd-0e03-4725-9f1e-5a2dcada13b1"
      },
      "source": [
        "%cd /content/drive/MyDrive/W2\n",
        "!python env_variables.py"
      ],
      "execution_count": 59,
      "outputs": [
        {
          "output_type": "stream",
          "text": [
            "/content/drive/MyDrive/W2\n"
          ],
          "name": "stdout"
        }
      ]
    },
    {
      "cell_type": "markdown",
      "metadata": {
        "id": "YwytaCuWtDJN"
      },
      "source": [
        "#Todo 01"
      ]
    },
    {
      "cell_type": "code",
      "metadata": {
        "colab": {
          "base_uri": "https://localhost:8080/"
        },
        "id": "WZKH7mqTPY4N",
        "outputId": "4193b09c-d3af-4486-db28-276afed3c5c5"
      },
      "source": [
        "import json\n",
        "with open('env_variable.json', 'r') as j:\n",
        "    json_data = json.load(j)\n",
        "    print(json_data)\n",
        "print(json_data['SENDER_EMAIL'])"
      ],
      "execution_count": 60,
      "outputs": [
        {
          "output_type": "stream",
          "text": [
            "{'SENDER_EMAIL': 'nhduong2803@gmail.com', 'PWD_EMAIL': 'uftysvbkephsnjgu', 'WEATHER_API_KEY': '15fa2ad258f2769152b37b92155e89cf'}\n",
            "nhduong2803@gmail.com\n"
          ],
          "name": "stdout"
        }
      ]
    },
    {
      "cell_type": "markdown",
      "metadata": {
        "id": "SiDa3RsDHa-K"
      },
      "source": [
        "#Todo 02"
      ]
    },
    {
      "cell_type": "code",
      "metadata": {
        "colab": {
          "base_uri": "https://localhost:8080/"
        },
        "id": "ZAUHQV3nqS9q",
        "outputId": "404d471d-7d5e-4a31-aa45-95bd025cc82e"
      },
      "source": [
        "import os\n",
        "os.environ['SENDER_EMAIL'] = json_data['SENDER_EMAIL'] ## INPUT: Your Email\n",
        "os.environ['PWD_EMAIL'] = json_data['PWD_EMAIL'] ## INPUT: Your App Password\n",
        "os.environ['WEATHER_API_KEY'] = json_data['WEATHER_API_KEY'] ## INPUT: OpenWeather API Key\n",
        "print('DONE! Get Env. Variable')\n",
        "print(os.environ['SENDER_EMAIL'])"
      ],
      "execution_count": 61,
      "outputs": [
        {
          "output_type": "stream",
          "text": [
            "DONE! Get Env. Variable\n",
            "nhduong2803@gmail.com\n"
          ],
          "name": "stdout"
        }
      ]
    },
    {
      "cell_type": "code",
      "metadata": {
        "colab": {
          "base_uri": "https://localhost:8080/"
        },
        "id": "3U44bih8rnV2",
        "outputId": "492f9ce8-6a6a-46c1-fc81-9a14c0c37bb1"
      },
      "source": [
        "!pip install beautifulsoup4"
      ],
      "execution_count": 62,
      "outputs": [
        {
          "output_type": "stream",
          "text": [
            "Requirement already satisfied: beautifulsoup4 in /usr/local/lib/python3.7/dist-packages (4.6.3)\n"
          ],
          "name": "stdout"
        }
      ]
    },
    {
      "cell_type": "code",
      "metadata": {
        "id": "B7SuYW6Yr6lj",
        "colab": {
          "base_uri": "https://localhost:8080/"
        },
        "outputId": "e40440cb-9b10-471c-ddf7-19c6995dc2ff"
      },
      "source": [
        "import email, smtplib, ssl # to automate email\n",
        "import email as mail\n",
        "from email import encoders\n",
        "from email.mime.base import MIMEBase\n",
        "from email.mime.multipart import MIMEMultipart\n",
        "from email.mime.text import MIMEText\n",
        "from email.mime.image import MIMEImage\n",
        "\n",
        "import requests, json # to pull API, and work with json\n",
        "import datetime as dt # to work with date, time\n",
        "from bs4 import BeautifulSoup # to work with web scrapping (HTML)\n",
        "import pandas as pd # to work with tables (DataFrames) data\n",
        "from IPython.core.display import HTML # to display HTML in the notebook\n",
        "\n",
        "subject = \"Welcome to Datacracy\" #INPUT1: Subject of the Email\n",
        "receiver_email = ['nhuhai03@gmail.com','nhduong2803@gmail.com','hato@cinnamon.is'] #INPUT2: email address to receive the email\n",
        "sender_email = os.environ['SENDER_EMAIL']\n",
        "password = os.environ['PWD_EMAIL'] \n",
        "\n",
        "for i in receiver_email:\n",
        "  # (1) Create the email head (sender, receiver, and subject)\n",
        "  email = MIMEMultipart()\n",
        "  email[\"From\"] = sender_email\n",
        "  email[\"To\"] = i \n",
        "  email[\"Subject\"] = subject\n",
        "\n",
        "  # (2) Create Body part\n",
        "  # We use html, you can convert word to html: https://wordtohtml.net/\n",
        "  html1 = \"\"\"\n",
        "    <html>\n",
        "    <head>\n",
        "    <title></title>\n",
        "    </head>\n",
        "\n",
        "    <body spellcheck=\"false\">\n",
        "    <p>Hi!</p>\n",
        "    <p>Hello Datacracy Team,</p>\n",
        "    <p>This is the link of <a href=\"https://docs.google.com/spreadsheets/d/1iFP3Prrns84yDzYS0tnoomrNB-Z2H1Jh/edit?usp=drive_web&ouid=100537790903044219495&rtpof=true\">my assignment 1</a>.</p>\n",
        "    <p>Kind Regard,</p>\n",
        "    <p>Nhu Hai.<br><br></p>\n",
        "    </body>\n",
        "    </html>\n",
        "      \"\"\"\n",
        "  html2 = \"\"\"\n",
        "  <html>\n",
        "  Email sent at <b>{}</b><br>\n",
        "  </html>\n",
        "  \"\"\".format(dt.datetime.now().isoformat())\n",
        "\n",
        "  image = \"/content/drive/MyDrive/W2/datacracy.png\"\n",
        "\n",
        "  # Combine parts\n",
        "  part1 = MIMEText(html1, 'html')\n",
        "  part2 = MIMEText(html2, 'html')\n",
        "  part3 = MIMEImage(open(image, 'rb').read(), 'png')\n",
        "\n",
        "  email.attach(part1)\n",
        "  email.attach(part2)\n",
        "  email.attach(part3)\n",
        "\n",
        "  # (3) Create SMTP session for sending the mail\n",
        "  session = smtplib.SMTP('smtp.gmail.com', 587) #use gmail with port\n",
        "  session.starttls() #enable security\n",
        "  session.login(sender_email, password) #login with mail_id and password\n",
        "  text = email.as_string()\n",
        "  session.sendmail(sender_email, i, text)\n",
        "  session.quit()\n",
        "print('DONE! Mail Sent'.format(sender_email, i))"
      ],
      "execution_count": 40,
      "outputs": [
        {
          "output_type": "stream",
          "text": [
            "DONE! Mail Sent\n"
          ],
          "name": "stdout"
        }
      ]
    },
    {
      "cell_type": "markdown",
      "metadata": {
        "id": "fm4YvMIBpkCr"
      },
      "source": [
        "## Tạo function send_email"
      ]
    },
    {
      "cell_type": "code",
      "metadata": {
        "colab": {
          "base_uri": "https://localhost:8080/"
        },
        "id": "XNCZsr1Ilg0o",
        "outputId": "b7c9c914-d73b-4287-85c2-fe4acb923945"
      },
      "source": [
        "def send_email(receiver_email, subject, part1, part2, part3, session):\n",
        "    # YOUR CODE\n",
        "    sender_email = os.environ['SENDER_EMAIL']\n",
        "    password = os.environ['PWD_EMAIL'] \n",
        "\n",
        "    # (1) Create the email head (sender, receiver, and subject)\n",
        "    email = MIMEMultipart()\n",
        "    email[\"From\"] = sender_email\n",
        "    email[\"To\"] = receiver_email \n",
        "    email[\"Subject\"] = subject\n",
        "\n",
        "    # Combine parts\n",
        "    part1 = MIMEText(part1, 'html')\n",
        "    part2 = MIMEText(part2, 'html')\n",
        "    part3 = MIMEText(part3, 'html')\n",
        "\n",
        "    email.attach(part1)\n",
        "    email.attach(part2)\n",
        "    email.attach(part3)\n",
        "\n",
        "    # (3) Create SMTP session for sending the mail\n",
        "    session = smtplib.SMTP('smtp.gmail.com', 587) #use gmail with port\n",
        "    session.starttls() #enable security\n",
        "    session.login(sender_email, password) #login with mail_id and password\n",
        "    text = email.as_string()\n",
        "    session.sendmail(sender_email, receiver_email, text)\n",
        "    session.quit()\n",
        "    print('DONE! Mail Sent'.format(sender_email, receiver_email))"
      ],
      "execution_count": 55,
      "outputs": [
        {
          "output_type": "stream",
          "text": [
            "DONE! Mail Sent\n"
          ],
          "name": "stdout"
        }
      ]
    },
    {
      "cell_type": "markdown",
      "metadata": {
        "id": "jsTfnfK9lgaY"
      },
      "source": [
        ""
      ]
    },
    {
      "cell_type": "markdown",
      "metadata": {
        "id": "dGqVH-czISWy"
      },
      "source": [
        "#Todo 03"
      ]
    },
    {
      "cell_type": "code",
      "metadata": {
        "colab": {
          "base_uri": "https://localhost:8080/"
        },
        "id": "btCbq6zWbCvM",
        "outputId": "53e4639e-5726-483c-fadf-a2f43e3126b5"
      },
      "source": [
        "# In thông tin weather, Longitute, Latitute lên file txt\n",
        "weather = data['weather'][0]['main']\n",
        "lon = data['coord']['lon']\n",
        "lat = data['coord']['lat']\n",
        "print('London weather: ',weather)\n",
        "print('lon: ',lon)\n",
        "print('lat: ',lat)"
      ],
      "execution_count": null,
      "outputs": [
        {
          "output_type": "stream",
          "text": [
            "London weather:  Clouds\n",
            "lon:  -0.1257\n",
            "lat:  51.5085\n"
          ],
          "name": "stdout"
        }
      ]
    },
    {
      "cell_type": "code",
      "metadata": {
        "colab": {
          "base_uri": "https://localhost:8080/",
          "height": 83
        },
        "id": "r0gXj0UnIQq6",
        "outputId": "171d4cae-0949-408d-fcdd-8e56991d4231"
      },
      "source": [
        "def get_weather_data(city):\n",
        "    # base URL\n",
        "    BASE_URL = \"https://api.openweathermap.org/data/2.5/weather?\"\n",
        "    # City Name \n",
        "    CITY = city\n",
        "    # API key \n",
        "    API_KEY = os.environ['WEATHER_API_KEY']\n",
        "    # upadting the URL\n",
        "    URL = BASE_URL + \"q=\" + CITY + \"&appid=\" + API_KEY\n",
        "    # HTTP request\n",
        "    response = requests.get(URL)\n",
        "    # checking the status code of the request\n",
        "    if response.status_code == 200:\n",
        "      # getting data in the json format\n",
        "      data = response.json()\n",
        "      # getting the main dict block\n",
        "      main = data['main']\n",
        "      # getting temperature\n",
        "      temperature = main['temp']\n",
        "      # getting the humidity\n",
        "      humidity = main['humidity']\n",
        "      # getting the pressure\n",
        "      pressure = main['pressure']\n",
        "      # weather report\n",
        "      report = data['weather'][0]['main']\n",
        "      # kết qủa\n",
        "      result = \"Temperature: \" + str(temperature) + \"<br>Humidty: \" + str(humidity) + \"<br>Pressure: \" + str(pressure) + \"<br>Report: \" + str(report)\n",
        "      return result\n",
        "    else:\n",
        "      # showing the error message\n",
        "      print(\"Error in the HTTP request\")\n",
        "      print(response)\n",
        "\n",
        "HTML(get_weather_data('Hanoi'))"
      ],
      "execution_count": 138,
      "outputs": [
        {
          "output_type": "execute_result",
          "data": {
            "text/html": [
              "Temperature: 296.15<br>Humidty: 79<br>Pressure: 1010<br>Report: Rain"
            ],
            "text/plain": [
              "<IPython.core.display.HTML object>"
            ]
          },
          "metadata": {
            "tags": []
          },
          "execution_count": 138
        }
      ]
    },
    {
      "cell_type": "markdown",
      "metadata": {
        "id": "FaBp1I6SThNj"
      },
      "source": [
        "#Todo 4"
      ]
    },
    {
      "cell_type": "code",
      "metadata": {
        "colab": {
          "base_uri": "https://localhost:8080/"
        },
        "id": "OltxARI8Tg4f",
        "outputId": "c214930a-461d-4674-ff08-e65a651aff54"
      },
      "source": [
        "response = requests.get(\n",
        "\turl=\"https://en.wikipedia.org/wiki/COVID-19\",\n",
        "  )\n",
        "print(\"API Status Code: \"+ str(response.status_code))\n",
        "soup = BeautifulSoup(response.content, 'html.parser')\n",
        "\n",
        "title = soup.find(id=\"firstHeading\")\n",
        "print(title.string)"
      ],
      "execution_count": 64,
      "outputs": [
        {
          "output_type": "stream",
          "text": [
            "API Status Code: 200\n",
            "COVID-19\n"
          ],
          "name": "stdout"
        }
      ]
    },
    {
      "cell_type": "code",
      "metadata": {
        "id": "bn6C9LSutrnf"
      },
      "source": [
        "# Get all the links\n",
        "p = soup.find(id=\"bodyContent\").find_all(\"p\") # \"a\""
      ],
      "execution_count": 65,
      "outputs": []
    },
    {
      "cell_type": "code",
      "metadata": {
        "colab": {
          "base_uri": "https://localhost:8080/",
          "height": 200
        },
        "id": "SlLumbhktvMC",
        "outputId": "28e12c0a-50e3-48c3-d7b0-66618785d127"
      },
      "source": [
        "from IPython.core.display import HTML\n",
        "HTML(str(p[4]))"
      ],
      "execution_count": 89,
      "outputs": [
        {
          "output_type": "execute_result",
          "data": {
            "text/html": [
              "<p><a href=\"/wiki/Symptoms_of_COVID-19\" title=\"Symptoms of COVID-19\">Symptoms of COVID-19</a> are variable, but often include fever,<sup class=\"reference\" id=\"cite_ref-9\"><a href=\"#cite_note-9\">[9]</a></sup> cough, headache,<sup class=\"reference\" id=\"cite_ref-10\"><a href=\"#cite_note-10\">[10]</a></sup> fatigue, <a class=\"mw-redirect\" href=\"/wiki/Breathing_difficulties\" title=\"Breathing difficulties\">breathing difficulties</a>, and <a href=\"/wiki/Anosmia\" title=\"Anosmia\">loss of smell</a> and <a href=\"/wiki/Ageusia\" title=\"Ageusia\">taste</a>.<sup class=\"reference\" id=\"cite_ref-11\"><a href=\"#cite_note-11\">[11]</a></sup><sup class=\"reference\" id=\"cite_ref-12\"><a href=\"#cite_note-12\">[12]</a></sup> Symptoms may begin one to fourteen days <a href=\"/wiki/Incubation_period\" title=\"Incubation period\">after exposure</a> to the virus. At least a third of people who are infected <a href=\"/wiki/Asymptomatic\" title=\"Asymptomatic\">do not develop noticeable symptoms</a>.<sup class=\"reference\" id=\"cite_ref-13\"><a href=\"#cite_note-13\">[13]</a></sup> Of those people who develop noticeable symptoms enough to be classed as patients, most (81%) develop mild to moderate symptoms (up to mild <a href=\"/wiki/Pneumonia\" title=\"Pneumonia\">pneumonia</a>), while 14% develop severe symptoms (<a class=\"mw-redirect\" href=\"/wiki/Dyspnea\" title=\"Dyspnea\">dyspnea</a>, <a href=\"/wiki/Hypoxia_(medical)\" title=\"Hypoxia (medical)\">hypoxia</a>, or more than 50% lung involvement on imaging), and 5% suffer critical symptoms (<a href=\"/wiki/Respiratory_failure\" title=\"Respiratory failure\">respiratory failure</a>, <a href=\"/wiki/Shock_(circulatory)\" title=\"Shock (circulatory)\">shock</a>, or <a href=\"/wiki/Organ_dysfunction\" title=\"Organ dysfunction\">multiorgan dysfunction</a>).<sup class=\"reference\" id=\"cite_ref-CDC_Interim_Guidance_14-0\"><a href=\"#cite_note-CDC_Interim_Guidance-14\">[14]</a></sup> <a class=\"mw-redirect\" href=\"/wiki/Older_people\" title=\"Older people\">Older people</a> are at a higher risk of developing severe symptoms. Some people continue to experience a range of effects (<a href=\"/wiki/Long_COVID\" title=\"Long COVID\">long COVID</a>) for months after recovery, and damage to organs has been observed.<sup class=\"reference\" id=\"cite_ref-:5_15-0\"><a href=\"#cite_note-:5-15\">[15]</a></sup> Multi-year studies are underway to further investigate the long-term effects of the disease.<sup class=\"reference\" id=\"cite_ref-:5_15-1\"><a href=\"#cite_note-:5-15\">[15]</a></sup>\n",
              "</p>"
            ],
            "text/plain": [
              "<IPython.core.display.HTML object>"
            ]
          },
          "metadata": {
            "tags": []
          },
          "execution_count": 89
        }
      ]
    },
    {
      "cell_type": "markdown",
      "metadata": {
        "id": "b7HycvFyXRgg"
      },
      "source": [
        "#Todo 5"
      ]
    },
    {
      "cell_type": "code",
      "metadata": {
        "colab": {
          "base_uri": "https://localhost:8080/"
        },
        "id": "AwupLpmlqhFS",
        "outputId": "058a3236-a2ce-49e5-c8f9-4408d7407578"
      },
      "source": [
        "for i in range(0, len(email_list)):\n",
        "    print('Email #{}'.format(i))\n",
        "    if email_list['contents'][i] == 'News':\n",
        "        print('COVID To: {}'.format(email_list['email'][i]))\n",
        "        # TODO: Send a COVID News\n",
        "        send_email(email_list['email'][i], \"Covid news\", \"Hi, \", \"<br>This is the information about covid:<>\", str(p[4]), session)\n",
        "        \n",
        "    elif email_list['contents'][i] == 'Weather':\n",
        "        print('Weather To: {}'.format(email_list['email'][i]))\n",
        "        # TODO: Send a Weather updates by the city\n",
        "        city = email_list['city'][i]\n",
        "        weather_info = get_weather_data(city)\n",
        "        send_email(email_list['email'][i], \"Weather Information\", \"Hi,\", \"<br>This is the weather in London:<br>\", weather_info, session)\n",
        "    else:\n",
        "        print('Invalid Contents')\n",
        "print('DONE!')"
      ],
      "execution_count": 140,
      "outputs": [
        {
          "output_type": "stream",
          "text": [
            "Email #0\n",
            "COVID To: nhuhai03@gmail.com\n",
            "DONE! Mail Sent\n",
            "Email #1\n",
            "Weather To: nhduong2803@gmail.com\n",
            "DONE! Mail Sent\n",
            "DONE!\n"
          ],
          "name": "stdout"
        }
      ]
    }
  ]
}
