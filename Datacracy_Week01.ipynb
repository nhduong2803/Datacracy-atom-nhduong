{
  "nbformat": 4,
  "nbformat_minor": 0,
  "metadata": {
    "colab": {
      "name": "W1.ipynb",
      "provenance": [],
      "collapsed_sections": [],
      "toc_visible": true,
      "authorship_tag": "ABX9TyPs11+MobgfvIzdnDO/KBVT",
      "include_colab_link": true
    },
    "kernelspec": {
      "name": "python3",
      "display_name": "Python 3"
    },
    "language_info": {
      "name": "python"
    }
  },
  "cells": [
    {
      "cell_type": "markdown",
      "metadata": {
        "id": "view-in-github",
        "colab_type": "text"
      },
      "source": [
        "<a href=\"https://colab.research.google.com/github/nhduonng2803/atacracy-atom-nhduong/blob/main/Datacracy_Week01.ipynb\" target=\"_parent\"><img src=\"https://colab.research.google.com/assets/colab-badge.svg\" alt=\"Open In Colab\"/></a>"
      ]
    },
    {
      "cell_type": "markdown",
      "metadata": {
        "id": "m_KT4ll5loSH"
      },
      "source": [
        "# MY FIRST PROGRAM"
      ]
    },
    {
      "cell_type": "code",
      "metadata": {
        "colab": {
          "base_uri": "https://localhost:8080/"
        },
        "id": "uZzqv_Gdbrcp",
        "outputId": "c90d693e-5dc4-43c2-87ad-f06485a023e0"
      },
      "source": [
        "# This program says hello and asks for my name\n",
        "print('Hello, Datacracy-er!')\n",
        "\n",
        "print('What is your name?') # ask for their name\n",
        "myName = input()\n",
        "print('It is good to meet you, '+ myName)\n",
        "\n",
        "print('What is your age?') # ask for their age\n",
        "myAge = input()\n",
        "print('You will be ' + str(int(myAge) + 1) + ' in a year')\n",
        "\n",
        "print('How many characters having in your name?')\n",
        "numChar = input()\n",
        "if int(numChar) == len(myName):\n",
        "  print('Correct!!!, There are ' + str(len(myName)) + ' character(s) in your name')\n",
        "else:\n",
        "  print('There are ' + str(len(myName)) + ' character(s) in your name')"
      ],
      "execution_count": null,
      "outputs": [
        {
          "output_type": "stream",
          "text": [
            "Hello, Datacracy-er!\n",
            "What is your name?\n",
            "hai\n",
            "It is good to meet you, hai\n",
            "What is your age?\n",
            "23\n",
            "You will be 24 in a year\n",
            "How many characters having in your name?\n",
            "3\n",
            "Correct!!!, There are 3 character(s) in your name\n"
          ],
          "name": "stdout"
        }
      ]
    },
    {
      "cell_type": "markdown",
      "metadata": {
        "id": "IjdOp3VAl4Q7"
      },
      "source": [
        "# FLOW CONTROL\n",
        "A Short Program: Rock, Paper, Scissors"
      ]
    },
    {
      "cell_type": "code",
      "metadata": {
        "id": "_925MwA1pl94",
        "colab": {
          "base_uri": "https://localhost:8080/",
          "height": 181
        },
        "outputId": "861899a4-3d92-4b89-8577-ed3e719359dc"
      },
      "source": [
        "import random, sys\n",
        "import warnings\n",
        "warnings.filterwarnings(\"ignore\")\n",
        "\n",
        "print('ROCK, PAPER, SCISSORS')\n",
        "\n",
        "# These variables keep track of the number of wins, loses, and ties.\n",
        "wins = 0\n",
        "losses = 0\n",
        "ties = 0\n",
        "\n",
        "while True: # The main game loop.\n",
        "  print('%s Wins, %s Losses, %s Ties' % (wins, losses, ties))\n",
        "  while True: # The players input loop.\n",
        "    print('Enter your move: (r)ock (p)aper (s)cissors or (q)uit')\n",
        "    playerMove = input()\n",
        "    if playerMove == 'q':\n",
        "      sys.exit() #quit the program\n",
        "    if playerMove == 'r' or playerMove == 'p' or playerMove == 's':\n",
        "      break # Break out of the player input loop.\n",
        "    print('Type one of r, p,, s, or q.')\n",
        "\n",
        "  # Display what the player chose:\n",
        "  if playerMove == 'r':\n",
        "    print('ROCK versus...')\n",
        "  elif playerMove == 'p':\n",
        "    print('PAPER versus...')\n",
        "  elif playerMove == 's':\n",
        "    print('SCISSORTS versus...')\n",
        "\n",
        "  # Display what computer chose:\n",
        "  randomNumber = random.randint(1,3)\n",
        "  if randomNumber == 1:\n",
        "    computerMove = 'r'\n",
        "    print('ROCK')\n",
        "  elif randomNumber == 2:\n",
        "    computerMove = 'p'\n",
        "    print('PAPER')\n",
        "  elif randomNumber == 3:\n",
        "    computerMove = 's'\n",
        "    print('SCISSORS')\n",
        "\n",
        "  #Display and record the win/loss/tie:\n",
        "  if playerMove == computerMove:\n",
        "    print('It is a tie!')\n",
        "    ties = ties + 1\n",
        "  elif playerMove == 'r' and computerMove == 's':\n",
        "    print('You win!')\n",
        "    wins = wins + 1\n",
        "  elif playerMove == 'p' and computerMove == 'r':\n",
        "    print('You win!')\n",
        "    wins = wins + 1\n",
        "  elif playerMove == 's' and computerMove == 'p':\n",
        "    print('You win!')\n",
        "    wins = wins + 1\n",
        "  elif playerMove == 'r' and computerMove == 'p':\n",
        "    print('You lose!')\n",
        "    losses = losses + 1\n",
        "  elif playerMove == 'p' and computerMove == 's':\n",
        "    print('You lose!')\n",
        "    losses = losses + 1\n",
        "  elif playerMove == 's' and computerMove == 'r':\n",
        "    print('You lose!')\n",
        "    losses = losses + 1"
      ],
      "execution_count": null,
      "outputs": [
        {
          "output_type": "stream",
          "text": [
            "ROCK, PAPER, SCISSORS\n",
            "0 Wins, 0 Losses, 0 Ties\n",
            "Enter your move: (r)ock (p)aper (s)cissors or (q)uit\n",
            "q\n"
          ],
          "name": "stdout"
        },
        {
          "output_type": "error",
          "ename": "SystemExit",
          "evalue": "ignored",
          "traceback": [
            "An exception has occurred, use %tb to see the full traceback.\n",
            "\u001b[0;31mSystemExit\u001b[0m\n"
          ]
        }
      ]
    },
    {
      "cell_type": "markdown",
      "metadata": {
        "id": "3g9c-7cyIEy5"
      },
      "source": [
        "# Functions \n",
        "A Short Program: Zigzag"
      ]
    },
    {
      "cell_type": "code",
      "metadata": {
        "id": "z4c-KoO-jn7-"
      },
      "source": [
        "import time, sys\n",
        "indent = 0 # How many spaces to indent\n",
        "indentIncreasing = True # Whether the indention is increasing or not\n",
        "\n",
        "try:\n",
        "  while True: # The main program loop.\n",
        "    print(' ' * indent, end='')\n",
        "    print('********')\n",
        "    time.sleep(0.1) # Pause for 1/10 of second.\n",
        "\n",
        "    if indentIncreasing:\n",
        "      # Increase the number of spaces:\n",
        "      indent = indent + 1\n",
        "      if indent == 20:\n",
        "        # Change direction:\n",
        "        indenIncreasing = False\n",
        "\n",
        "    else:\n",
        "      # Decrease the number of spaces:\n",
        "      indent = indent - 1\n",
        "      if indent == 0:\n",
        "          # Change direction:\n",
        "          indentIcreasing = True\n",
        "except KeyboardInterrupt:\n",
        "  sys.exit()"
      ],
      "execution_count": null,
      "outputs": []
    },
    {
      "cell_type": "markdown",
      "metadata": {
        "id": "Q7bk6R-LomkF"
      },
      "source": [
        "# Lists \n",
        "A Short Program: Conway’s Game of Life"
      ]
    },
    {
      "cell_type": "code",
      "metadata": {
        "id": "wj4nAAyRo03W"
      },
      "source": [
        "# Conway's Game of Life\n",
        "import random, time, copy\n",
        "WIDTH = 60\n",
        "HEIGHT = 20\n",
        "\n",
        "# Create a list of list for the cells:\n",
        "nextCells = []\n",
        "for x in range(WIDTH):\n",
        "  column = [] # Create a new column.\n",
        "  for y in range(HEIGHT):\n",
        "    if random.randint(0,1) == 0:\n",
        "      column.append('#') # Add a living cell.\n",
        "    else:\n",
        "      column.append(' ') # Add a dead cell.\n",
        "  nextCells.append(column) # nextCells is a list of column lists.\n",
        "\n",
        "while True: # Main program loop.\n",
        "  print('n\\n\\n\\n\\n') # Separate each step with newlines.\n",
        "  currentCells = copy.deepcopy(nextCells)\n",
        "\n",
        "  # Print currentCells on the screen:\n",
        "  for y in range(HEIGHT):\n",
        "    for x in range(WIDTH):\n",
        "      print(currentCells[x][y], end='') # Print the # or space.\n",
        "    print() # Print a newline at the end of the row.\n",
        "\n",
        "  # Calculate the next step's cells based on current step's cells:\n",
        "  for x in range(WIDTH):\n",
        "    for y in range(HEIGHT):\n",
        "      # Get neighboring coordinates:\n",
        "      # '% WIDTH' ensures leftCoord is always between 0 and WIDTH - 1\n",
        "      leftCoord = (x-1)% WIDTH\n",
        "      rightCoord = (x+1)%WIDTH\n",
        "      aboveCoord = (y-1)%HEIGHT\n",
        "      belowCoord = (y+1)%HEIGHT\n",
        "\n",
        "      # Count number of living neighbors:\n",
        "      numNeighbors = 0\n",
        "      if currentCells[leftCoord][aboveCoord] == '#':\n",
        "        numNeighbors += 1 # Top-left neighbor is alive.\n",
        "      if currentCells[x][aboveCoord] == '#':\n",
        "        numNeighbors += 1 # Top neighbor is alive.\n",
        "      if currentCells[rightCoord][aboveCoord] == '#':\n",
        "        numNeighbors += 1 # Top-right neighbor is alive.\n",
        "      if currentCells[leftCoord][y] == '#':\n",
        "        numNeighbors += 1 # Left neighbor is alive.\n",
        "      if currentCells[rightCoord][y] == '#':\n",
        "        numNeighbors += 1 # Right neighbor is alive.\n",
        "      if currentCells[leftCoord][belowCoord] == '#':\n",
        "        numNeighbors += 1 # Bottom-left neighbor is alive.\n",
        "      if currentCells[x][belowCoord] == '#':\n",
        "        numNeighbors += 1 # Bottom neighbor is alive.\n",
        "      if currentCells[rightCoord][belowCoord] == '#':\n",
        "        numNeighbors += 1 # Bottom-right neighbor is alive.\n",
        "\n",
        "\n",
        "      # Set cell based on Conway's Game of Life rules:\n",
        "      if currentCells[x][y] == '#' and (numNeighbors == 2 or numNeighbors == 3):\n",
        "        # Living cells with 2 or 3 neighbors stay alive:\n",
        "        nextCells[x][y] = '#'\n",
        "      elif currentCells[x][y] == ' ' and numNeighbors == 3:\n",
        "        # Dead cells with 3 neighbors become alive:\n",
        "        nextCells[x][y] = '#'\n",
        "      else:\n",
        "        # Everything else dies or stays dead:\n",
        "        nextCells[x][y] = ' '\n",
        "time.sleep(1) # Add a 1-second pause to reduce flickering."
      ],
      "execution_count": null,
      "outputs": []
    },
    {
      "cell_type": "markdown",
      "metadata": {
        "id": "Qgp_7xT2ylIJ"
      },
      "source": [
        "# Dictionaries & Structuring Data \n",
        "Tic-Tac-Toe Board"
      ]
    },
    {
      "cell_type": "code",
      "metadata": {
        "colab": {
          "base_uri": "https://localhost:8080/",
          "height": 528
        },
        "id": "Y5PgMiQkypqd",
        "outputId": "49b0df81-c084-4394-86b6-91a62216dca5"
      },
      "source": [
        "theBoard = {'top-L': ' ', 'top-M': ' ', 'top-R': ' ', 'mid-L': ' ', 'mid-M':\n",
        "' ', 'mid-R': ' ', 'low-L': ' ', 'low-M': ' ', 'low-R': ' '}\n",
        "\n",
        "def printBoard(board):\n",
        "  print(board['top-L'] + '|' + board['top-M'] + '|' + board['top-R'])\n",
        "  print('-+-+-')\n",
        "  print(board['mid-L'] + '|' + board['mid-M'] + '|' + board['mid-R'])\n",
        "  print('-+-+-')\n",
        "  print(board['low-L'] + '|' + board['low-M'] + '|' + board['low-R'])\n",
        "turn = 'X'\n",
        "for i in range(9):\n",
        "  printBoard(theBoard)\n",
        "  print('Turn for ' + turn + '. Move on which space?')\n",
        "  move = input()\n",
        "  theBoard[move] = turn\n",
        "  if turn == 'X':\n",
        "    turn = 'O'\n",
        "  else:\n",
        "    turn = 'X'\n",
        "printBoard(theBoard)"
      ],
      "execution_count": 3,
      "outputs": [
        {
          "output_type": "error",
          "ename": "KeyboardInterrupt",
          "evalue": "ignored",
          "traceback": [
            "\u001b[0;31m---------------------------------------------------------------------------\u001b[0m",
            "\u001b[0;31mKeyboardInterrupt\u001b[0m                         Traceback (most recent call last)",
            "\u001b[0;32m/usr/local/lib/python3.7/dist-packages/ipykernel/kernelbase.py\u001b[0m in \u001b[0;36m_input_request\u001b[0;34m(self, prompt, ident, parent, password)\u001b[0m\n\u001b[1;32m    728\u001b[0m             \u001b[0;32mtry\u001b[0m\u001b[0;34m:\u001b[0m\u001b[0;34m\u001b[0m\u001b[0;34m\u001b[0m\u001b[0m\n\u001b[0;32m--> 729\u001b[0;31m                 \u001b[0mident\u001b[0m\u001b[0;34m,\u001b[0m \u001b[0mreply\u001b[0m \u001b[0;34m=\u001b[0m \u001b[0mself\u001b[0m\u001b[0;34m.\u001b[0m\u001b[0msession\u001b[0m\u001b[0;34m.\u001b[0m\u001b[0mrecv\u001b[0m\u001b[0;34m(\u001b[0m\u001b[0mself\u001b[0m\u001b[0;34m.\u001b[0m\u001b[0mstdin_socket\u001b[0m\u001b[0;34m,\u001b[0m \u001b[0;36m0\u001b[0m\u001b[0;34m)\u001b[0m\u001b[0;34m\u001b[0m\u001b[0;34m\u001b[0m\u001b[0m\n\u001b[0m\u001b[1;32m    730\u001b[0m             \u001b[0;32mexcept\u001b[0m \u001b[0mException\u001b[0m\u001b[0;34m:\u001b[0m\u001b[0;34m\u001b[0m\u001b[0;34m\u001b[0m\u001b[0m\n",
            "\u001b[0;32m/usr/local/lib/python3.7/dist-packages/jupyter_client/session.py\u001b[0m in \u001b[0;36mrecv\u001b[0;34m(self, socket, mode, content, copy)\u001b[0m\n\u001b[1;32m    802\u001b[0m         \u001b[0;32mtry\u001b[0m\u001b[0;34m:\u001b[0m\u001b[0;34m\u001b[0m\u001b[0;34m\u001b[0m\u001b[0m\n\u001b[0;32m--> 803\u001b[0;31m             \u001b[0mmsg_list\u001b[0m \u001b[0;34m=\u001b[0m \u001b[0msocket\u001b[0m\u001b[0;34m.\u001b[0m\u001b[0mrecv_multipart\u001b[0m\u001b[0;34m(\u001b[0m\u001b[0mmode\u001b[0m\u001b[0;34m,\u001b[0m \u001b[0mcopy\u001b[0m\u001b[0;34m=\u001b[0m\u001b[0mcopy\u001b[0m\u001b[0;34m)\u001b[0m\u001b[0;34m\u001b[0m\u001b[0;34m\u001b[0m\u001b[0m\n\u001b[0m\u001b[1;32m    804\u001b[0m         \u001b[0;32mexcept\u001b[0m \u001b[0mzmq\u001b[0m\u001b[0;34m.\u001b[0m\u001b[0mZMQError\u001b[0m \u001b[0;32mas\u001b[0m \u001b[0me\u001b[0m\u001b[0;34m:\u001b[0m\u001b[0;34m\u001b[0m\u001b[0;34m\u001b[0m\u001b[0m\n",
            "\u001b[0;32m/usr/local/lib/python3.7/dist-packages/zmq/sugar/socket.py\u001b[0m in \u001b[0;36mrecv_multipart\u001b[0;34m(self, flags, copy, track)\u001b[0m\n\u001b[1;32m    582\u001b[0m         \"\"\"\n\u001b[0;32m--> 583\u001b[0;31m         \u001b[0mparts\u001b[0m \u001b[0;34m=\u001b[0m \u001b[0;34m[\u001b[0m\u001b[0mself\u001b[0m\u001b[0;34m.\u001b[0m\u001b[0mrecv\u001b[0m\u001b[0;34m(\u001b[0m\u001b[0mflags\u001b[0m\u001b[0;34m,\u001b[0m \u001b[0mcopy\u001b[0m\u001b[0;34m=\u001b[0m\u001b[0mcopy\u001b[0m\u001b[0;34m,\u001b[0m \u001b[0mtrack\u001b[0m\u001b[0;34m=\u001b[0m\u001b[0mtrack\u001b[0m\u001b[0;34m)\u001b[0m\u001b[0;34m]\u001b[0m\u001b[0;34m\u001b[0m\u001b[0;34m\u001b[0m\u001b[0m\n\u001b[0m\u001b[1;32m    584\u001b[0m         \u001b[0;31m# have first part already, only loop while more to receive\u001b[0m\u001b[0;34m\u001b[0m\u001b[0;34m\u001b[0m\u001b[0;34m\u001b[0m\u001b[0m\n",
            "\u001b[0;32mzmq/backend/cython/socket.pyx\u001b[0m in \u001b[0;36mzmq.backend.cython.socket.Socket.recv\u001b[0;34m()\u001b[0m\n",
            "\u001b[0;32mzmq/backend/cython/socket.pyx\u001b[0m in \u001b[0;36mzmq.backend.cython.socket.Socket.recv\u001b[0;34m()\u001b[0m\n",
            "\u001b[0;32mzmq/backend/cython/socket.pyx\u001b[0m in \u001b[0;36mzmq.backend.cython.socket._recv_copy\u001b[0;34m()\u001b[0m\n",
            "\u001b[0;32m/usr/local/lib/python3.7/dist-packages/zmq/backend/cython/checkrc.pxd\u001b[0m in \u001b[0;36mzmq.backend.cython.checkrc._check_rc\u001b[0;34m()\u001b[0m\n",
            "\u001b[0;31mKeyboardInterrupt\u001b[0m: ",
            "\nDuring handling of the above exception, another exception occurred:\n",
            "\u001b[0;31mKeyboardInterrupt\u001b[0m                         Traceback (most recent call last)",
            "\u001b[0;32m<ipython-input-3-176e2258cb50>\u001b[0m in \u001b[0;36m<module>\u001b[0;34m()\u001b[0m\n\u001b[1;32m     12\u001b[0m   \u001b[0mprintBoard\u001b[0m\u001b[0;34m(\u001b[0m\u001b[0mtheBoard\u001b[0m\u001b[0;34m)\u001b[0m\u001b[0;34m\u001b[0m\u001b[0;34m\u001b[0m\u001b[0m\n\u001b[1;32m     13\u001b[0m   \u001b[0mprint\u001b[0m\u001b[0;34m(\u001b[0m\u001b[0;34m'Turn for '\u001b[0m \u001b[0;34m+\u001b[0m \u001b[0mturn\u001b[0m \u001b[0;34m+\u001b[0m \u001b[0;34m'. Move on which space?'\u001b[0m\u001b[0;34m)\u001b[0m\u001b[0;34m\u001b[0m\u001b[0;34m\u001b[0m\u001b[0m\n\u001b[0;32m---> 14\u001b[0;31m   \u001b[0mmove\u001b[0m \u001b[0;34m=\u001b[0m \u001b[0minput\u001b[0m\u001b[0;34m(\u001b[0m\u001b[0;34m)\u001b[0m\u001b[0;34m\u001b[0m\u001b[0;34m\u001b[0m\u001b[0m\n\u001b[0m\u001b[1;32m     15\u001b[0m   \u001b[0mtheBoard\u001b[0m\u001b[0;34m[\u001b[0m\u001b[0mmove\u001b[0m\u001b[0;34m]\u001b[0m \u001b[0;34m=\u001b[0m \u001b[0mturn\u001b[0m\u001b[0;34m\u001b[0m\u001b[0;34m\u001b[0m\u001b[0m\n\u001b[1;32m     16\u001b[0m   \u001b[0;32mif\u001b[0m \u001b[0mturn\u001b[0m \u001b[0;34m==\u001b[0m \u001b[0;34m'X'\u001b[0m\u001b[0;34m:\u001b[0m\u001b[0;34m\u001b[0m\u001b[0;34m\u001b[0m\u001b[0m\n",
            "\u001b[0;32m/usr/local/lib/python3.7/dist-packages/ipykernel/kernelbase.py\u001b[0m in \u001b[0;36mraw_input\u001b[0;34m(self, prompt)\u001b[0m\n\u001b[1;32m    702\u001b[0m             \u001b[0mself\u001b[0m\u001b[0;34m.\u001b[0m\u001b[0m_parent_ident\u001b[0m\u001b[0;34m,\u001b[0m\u001b[0;34m\u001b[0m\u001b[0;34m\u001b[0m\u001b[0m\n\u001b[1;32m    703\u001b[0m             \u001b[0mself\u001b[0m\u001b[0;34m.\u001b[0m\u001b[0m_parent_header\u001b[0m\u001b[0;34m,\u001b[0m\u001b[0;34m\u001b[0m\u001b[0;34m\u001b[0m\u001b[0m\n\u001b[0;32m--> 704\u001b[0;31m             \u001b[0mpassword\u001b[0m\u001b[0;34m=\u001b[0m\u001b[0;32mFalse\u001b[0m\u001b[0;34m,\u001b[0m\u001b[0;34m\u001b[0m\u001b[0;34m\u001b[0m\u001b[0m\n\u001b[0m\u001b[1;32m    705\u001b[0m         )\n\u001b[1;32m    706\u001b[0m \u001b[0;34m\u001b[0m\u001b[0m\n",
            "\u001b[0;32m/usr/local/lib/python3.7/dist-packages/ipykernel/kernelbase.py\u001b[0m in \u001b[0;36m_input_request\u001b[0;34m(self, prompt, ident, parent, password)\u001b[0m\n\u001b[1;32m    732\u001b[0m             \u001b[0;32mexcept\u001b[0m \u001b[0mKeyboardInterrupt\u001b[0m\u001b[0;34m:\u001b[0m\u001b[0;34m\u001b[0m\u001b[0;34m\u001b[0m\u001b[0m\n\u001b[1;32m    733\u001b[0m                 \u001b[0;31m# re-raise KeyboardInterrupt, to truncate traceback\u001b[0m\u001b[0;34m\u001b[0m\u001b[0;34m\u001b[0m\u001b[0;34m\u001b[0m\u001b[0m\n\u001b[0;32m--> 734\u001b[0;31m                 \u001b[0;32mraise\u001b[0m \u001b[0mKeyboardInterrupt\u001b[0m\u001b[0;34m\u001b[0m\u001b[0;34m\u001b[0m\u001b[0m\n\u001b[0m\u001b[1;32m    735\u001b[0m             \u001b[0;32melse\u001b[0m\u001b[0;34m:\u001b[0m\u001b[0;34m\u001b[0m\u001b[0;34m\u001b[0m\u001b[0m\n\u001b[1;32m    736\u001b[0m                 \u001b[0;32mbreak\u001b[0m\u001b[0;34m\u001b[0m\u001b[0;34m\u001b[0m\u001b[0m\n",
            "\u001b[0;31mKeyboardInterrupt\u001b[0m: "
          ]
        }
      ]
    }
  ]
}